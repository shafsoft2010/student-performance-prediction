{
 "cells": [
  {
   "cell_type": "code",
   "execution_count": null,
   "id": "ae599541",
   "metadata": {},
   "outputs": [],
   "source": [
    "\n",
    "import pandas as pd\n",
    "import matplotlib.pyplot as plt\n",
    "from sklearn.linear_model import LogisticRegression\n",
    "from sklearn.model_selection import train_test_split\n",
    "from sklearn.metrics import accuracy_score\n"
   ]
  },
  {
   "cell_type": "code",
   "execution_count": null,
   "id": "b29cac76",
   "metadata": {},
   "outputs": [],
   "source": [
    "\n",
    "# Create dataset\n",
    "data = {\n",
    "    'Hours_Studied': [5, 2, 4, 1, 3, 6, 0.5, 3.5, 2.5, 4.5],\n",
    "    'Attendance': [85, 60, 75, 50, 65, 90, 40, 70, 55, 80],\n",
    "    'Pass_Fail': [1, 0, 1, 0, 0, 1, 0, 1, 0, 1]\n",
    "}\n",
    "df = pd.DataFrame(data)\n",
    "print(df)\n"
   ]
  },
  {
   "cell_type": "code",
   "execution_count": null,
   "id": "5e05978b",
   "metadata": {},
   "outputs": [],
   "source": [
    "\n",
    "# Visualize the data\n",
    "plt.scatter(df['Hours_Studied'], df['Attendance'], c=df['Pass_Fail'], cmap='bwr')\n",
    "plt.xlabel('Hours Studied')\n",
    "plt.ylabel('Attendance (%)')\n",
    "plt.title('Student Performance Visualization')\n",
    "plt.colorbar(label='Pass (1) / Fail (0)')\n",
    "plt.grid(True)\n",
    "plt.show()\n"
   ]
  },
  {
   "cell_type": "code",
   "execution_count": null,
   "id": "79229cc6",
   "metadata": {},
   "outputs": [],
   "source": [
    "\n",
    "# Prepare data\n",
    "X = df[['Hours_Studied', 'Attendance']]\n",
    "y = df['Pass_Fail']\n",
    "X_train, X_test, y_train, y_test = train_test_split(X, y, test_size=0.3, random_state=42)\n"
   ]
  },
  {
   "cell_type": "code",
   "execution_count": null,
   "id": "0cb788e0",
   "metadata": {},
   "outputs": [],
   "source": [
    "\n",
    "# Train model\n",
    "model = LogisticRegression()\n",
    "model.fit(X_train, y_train)\n"
   ]
  },
  {
   "cell_type": "code",
   "execution_count": null,
   "id": "8f00c646",
   "metadata": {},
   "outputs": [],
   "source": [
    "\n",
    "# Evaluate model\n",
    "y_pred = model.predict(X_test)\n",
    "accuracy = accuracy_score(y_test, y_pred)\n",
    "print(f\"Accuracy of the model: {accuracy:.2f}\")\n"
   ]
  },
  {
   "cell_type": "code",
   "execution_count": null,
   "id": "1bd36d34",
   "metadata": {},
   "outputs": [],
   "source": [
    "\n",
    "# Predict on new data\n",
    "new_data = [[3, 72]]\n",
    "prediction = model.predict(new_data)\n",
    "print(\"Prediction: Pass\" if prediction[0] == 1 else \"Prediction: Fail\")\n"
   ]
  }
 ],
 "metadata": {},
 "nbformat": 4,
 "nbformat_minor": 5
}
